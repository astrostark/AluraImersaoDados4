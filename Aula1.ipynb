{
 "cells": [
  {
   "cell_type": "markdown",
   "id": "a4d1805c-b418-498f-a0d9-abb5194af1c1",
   "metadata": {},
   "source": [
    "# Aula 1 - Primeiro Colab"
   ]
  },
  {
   "cell_type": "markdown",
   "id": "db408470-faa4-462a-bf4f-6db7b1ffc28c",
   "metadata": {
    "tags": []
   },
   "source": [
    "## Estudo"
   ]
  },
  {
   "cell_type": "markdown",
   "id": "b48a9349-273a-4d86-9e8f-07d4d63a35ef",
   "metadata": {},
   "source": [
    "### Importação do read_csv do pantas para abrir o arquivo da URL"
   ]
  },
  {
   "cell_type": "code",
   "execution_count": 1,
   "id": "db102ba0-bb0a-48c8-b882-7efcff8cf363",
   "metadata": {},
   "outputs": [],
   "source": [
    "import pandas as pd"
   ]
  },
  {
   "cell_type": "markdown",
   "id": "da86608a-bcf5-49ba-979f-f48c7005397f",
   "metadata": {},
   "source": [
    "### Configuração do local do arquivo CSV e leitura dele"
   ]
  },
  {
   "cell_type": "code",
   "execution_count": 2,
   "id": "3788e5e0-1ea4-4f81-b096-ce4b07dcb247",
   "metadata": {},
   "outputs": [
    {
     "data": {
      "text/html": [
       "<div>\n",
       "<style scoped>\n",
       "    .dataframe tbody tr th:only-of-type {\n",
       "        vertical-align: middle;\n",
       "    }\n",
       "\n",
       "    .dataframe tbody tr th {\n",
       "        vertical-align: top;\n",
       "    }\n",
       "\n",
       "    .dataframe thead th {\n",
       "        text-align: right;\n",
       "    }\n",
       "</style>\n",
       "<table border=\"1\" class=\"dataframe\">\n",
       "  <thead>\n",
       "    <tr style=\"text-align: right;\">\n",
       "      <th></th>\n",
       "      <th>Rua</th>\n",
       "      <th>Bairro</th>\n",
       "      <th>Cidade</th>\n",
       "      <th>Metragem</th>\n",
       "      <th>Quartos</th>\n",
       "      <th>Banheiros</th>\n",
       "      <th>Vagas</th>\n",
       "      <th>Valor</th>\n",
       "    </tr>\n",
       "  </thead>\n",
       "  <tbody>\n",
       "    <tr>\n",
       "      <th>0</th>\n",
       "      <td>Avenida Itacira, 255</td>\n",
       "      <td>Planalto Paulista</td>\n",
       "      <td>São Paulo</td>\n",
       "      <td>1000</td>\n",
       "      <td>4</td>\n",
       "      <td>8</td>\n",
       "      <td>6</td>\n",
       "      <td>R$ 7.000.000</td>\n",
       "    </tr>\n",
       "    <tr>\n",
       "      <th>1</th>\n",
       "      <td>Rua Aurelia Perez Alvarez, 42</td>\n",
       "      <td>Jardim dos Estados</td>\n",
       "      <td>São Paulo</td>\n",
       "      <td>496</td>\n",
       "      <td>4</td>\n",
       "      <td>4</td>\n",
       "      <td>4</td>\n",
       "      <td>R$ 3.700.000</td>\n",
       "    </tr>\n",
       "    <tr>\n",
       "      <th>2</th>\n",
       "      <td>Rua Alba Valdez</td>\n",
       "      <td>Jardim Reimberg</td>\n",
       "      <td>São Paulo</td>\n",
       "      <td>125</td>\n",
       "      <td>4</td>\n",
       "      <td>3</td>\n",
       "      <td>2</td>\n",
       "      <td>R$ 380.000</td>\n",
       "    </tr>\n",
       "    <tr>\n",
       "      <th>3</th>\n",
       "      <td>NaN</td>\n",
       "      <td>Jardim Morumbi</td>\n",
       "      <td>São Paulo</td>\n",
       "      <td>310</td>\n",
       "      <td>3</td>\n",
       "      <td>2</td>\n",
       "      <td>4</td>\n",
       "      <td>R$ 685.000</td>\n",
       "    </tr>\n",
       "    <tr>\n",
       "      <th>4</th>\n",
       "      <td>Rua Tobias Barreto, 195</td>\n",
       "      <td>Mooca</td>\n",
       "      <td>São Paulo</td>\n",
       "      <td>100</td>\n",
       "      <td>3</td>\n",
       "      <td>2</td>\n",
       "      <td>2</td>\n",
       "      <td>R$ 540.000</td>\n",
       "    </tr>\n",
       "    <tr>\n",
       "      <th>...</th>\n",
       "      <td>...</td>\n",
       "      <td>...</td>\n",
       "      <td>...</td>\n",
       "      <td>...</td>\n",
       "      <td>...</td>\n",
       "      <td>...</td>\n",
       "      <td>...</td>\n",
       "      <td>...</td>\n",
       "    </tr>\n",
       "    <tr>\n",
       "      <th>10003</th>\n",
       "      <td>Rua Tapuçu</td>\n",
       "      <td>Vila Sofia</td>\n",
       "      <td>São Paulo</td>\n",
       "      <td>95</td>\n",
       "      <td>2</td>\n",
       "      <td>2</td>\n",
       "      <td>2</td>\n",
       "      <td>R$ 665.000</td>\n",
       "    </tr>\n",
       "    <tr>\n",
       "      <th>10004</th>\n",
       "      <td>Rua Guararema</td>\n",
       "      <td>Bosque da Saúde</td>\n",
       "      <td>São Paulo</td>\n",
       "      <td>605</td>\n",
       "      <td>8</td>\n",
       "      <td>7</td>\n",
       "      <td>5</td>\n",
       "      <td>R$ 2.300.000</td>\n",
       "    </tr>\n",
       "    <tr>\n",
       "      <th>10005</th>\n",
       "      <td>Rua Estero Belaco</td>\n",
       "      <td>Vila da Saúde</td>\n",
       "      <td>São Paulo</td>\n",
       "      <td>205</td>\n",
       "      <td>3</td>\n",
       "      <td>3</td>\n",
       "      <td>6</td>\n",
       "      <td>R$ 1.050.000</td>\n",
       "    </tr>\n",
       "    <tr>\n",
       "      <th>10006</th>\n",
       "      <td>Rua Manuel Onha, , 514</td>\n",
       "      <td>Vila Oratório</td>\n",
       "      <td>São Paulo</td>\n",
       "      <td>185</td>\n",
       "      <td>3</td>\n",
       "      <td>2</td>\n",
       "      <td>2</td>\n",
       "      <td>R$ 2.200\\n                      /Mês</td>\n",
       "    </tr>\n",
       "    <tr>\n",
       "      <th>10007</th>\n",
       "      <td>Rua Barão de Tramandaí, 0</td>\n",
       "      <td>Vila Alpina</td>\n",
       "      <td>São Paulo</td>\n",
       "      <td>122</td>\n",
       "      <td>3</td>\n",
       "      <td>2</td>\n",
       "      <td>2</td>\n",
       "      <td>R$ 270.000</td>\n",
       "    </tr>\n",
       "  </tbody>\n",
       "</table>\n",
       "<p>10008 rows × 8 columns</p>\n",
       "</div>"
      ],
      "text/plain": [
       "                                  Rua              Bairro     Cidade  \\\n",
       "0               Avenida Itacira, 255    Planalto Paulista  São Paulo   \n",
       "1      Rua Aurelia Perez Alvarez, 42   Jardim dos Estados  São Paulo   \n",
       "2                     Rua Alba Valdez     Jardim Reimberg  São Paulo   \n",
       "3                                 NaN      Jardim Morumbi  São Paulo   \n",
       "4            Rua Tobias Barreto, 195                Mooca  São Paulo   \n",
       "...                               ...                 ...        ...   \n",
       "10003                      Rua Tapuçu          Vila Sofia  São Paulo   \n",
       "10004                   Rua Guararema     Bosque da Saúde  São Paulo   \n",
       "10005               Rua Estero Belaco       Vila da Saúde  São Paulo   \n",
       "10006         Rua Manuel Onha, , 514        Vila Oratório  São Paulo   \n",
       "10007      Rua Barão de Tramandaí, 0          Vila Alpina  São Paulo   \n",
       "\n",
       "       Metragem  Quartos  Banheiros  Vagas  \\\n",
       "0          1000        4          8      6   \n",
       "1           496        4          4      4   \n",
       "2           125        4          3      2   \n",
       "3           310        3          2      4   \n",
       "4           100        3          2      2   \n",
       "...         ...      ...        ...    ...   \n",
       "10003        95        2          2      2   \n",
       "10004       605        8          7      5   \n",
       "10005       205        3          3      6   \n",
       "10006       185        3          2      2   \n",
       "10007       122        3          2      2   \n",
       "\n",
       "                                      Valor  \n",
       "0                              R$ 7.000.000  \n",
       "1                              R$ 3.700.000  \n",
       "2                                R$ 380.000  \n",
       "3                                R$ 685.000  \n",
       "4                                R$ 540.000  \n",
       "...                                     ...  \n",
       "10003                            R$ 665.000  \n",
       "10004                          R$ 2.300.000  \n",
       "10005                          R$ 1.050.000  \n",
       "10006  R$ 2.200\\n                      /Mês  \n",
       "10007                            R$ 270.000  \n",
       "\n",
       "[10008 rows x 8 columns]"
      ]
     },
     "execution_count": 2,
     "metadata": {},
     "output_type": "execute_result"
    }
   ],
   "source": [
    "url = \"https://gist.githubusercontent.com/tgcsantos/3bdb29eba6ce391e90df2b72205ba891/raw/22fa920e80c9fa209a9fccc8b52d74cc95d1599b/dados_imoveis.csv\"\n",
    "dados = pd.read_csv(url)\n",
    "dados"
   ]
  },
  {
   "cell_type": "markdown",
   "id": "ecaee30f-2830-45ee-9480-695697e28a76",
   "metadata": {},
   "source": [
    "### Exibição dos N primeiros dados do Dataframe"
   ]
  },
  {
   "cell_type": "code",
   "execution_count": 3,
   "id": "44c26279-c7d5-45ec-b00c-330a1ce82fc8",
   "metadata": {},
   "outputs": [
    {
     "data": {
      "text/html": [
       "<div>\n",
       "<style scoped>\n",
       "    .dataframe tbody tr th:only-of-type {\n",
       "        vertical-align: middle;\n",
       "    }\n",
       "\n",
       "    .dataframe tbody tr th {\n",
       "        vertical-align: top;\n",
       "    }\n",
       "\n",
       "    .dataframe thead th {\n",
       "        text-align: right;\n",
       "    }\n",
       "</style>\n",
       "<table border=\"1\" class=\"dataframe\">\n",
       "  <thead>\n",
       "    <tr style=\"text-align: right;\">\n",
       "      <th></th>\n",
       "      <th>Rua</th>\n",
       "      <th>Bairro</th>\n",
       "      <th>Cidade</th>\n",
       "      <th>Metragem</th>\n",
       "      <th>Quartos</th>\n",
       "      <th>Banheiros</th>\n",
       "      <th>Vagas</th>\n",
       "      <th>Valor</th>\n",
       "    </tr>\n",
       "  </thead>\n",
       "  <tbody>\n",
       "    <tr>\n",
       "      <th>0</th>\n",
       "      <td>Avenida Itacira, 255</td>\n",
       "      <td>Planalto Paulista</td>\n",
       "      <td>São Paulo</td>\n",
       "      <td>1000</td>\n",
       "      <td>4</td>\n",
       "      <td>8</td>\n",
       "      <td>6</td>\n",
       "      <td>R$ 7.000.000</td>\n",
       "    </tr>\n",
       "    <tr>\n",
       "      <th>1</th>\n",
       "      <td>Rua Aurelia Perez Alvarez, 42</td>\n",
       "      <td>Jardim dos Estados</td>\n",
       "      <td>São Paulo</td>\n",
       "      <td>496</td>\n",
       "      <td>4</td>\n",
       "      <td>4</td>\n",
       "      <td>4</td>\n",
       "      <td>R$ 3.700.000</td>\n",
       "    </tr>\n",
       "    <tr>\n",
       "      <th>2</th>\n",
       "      <td>Rua Alba Valdez</td>\n",
       "      <td>Jardim Reimberg</td>\n",
       "      <td>São Paulo</td>\n",
       "      <td>125</td>\n",
       "      <td>4</td>\n",
       "      <td>3</td>\n",
       "      <td>2</td>\n",
       "      <td>R$ 380.000</td>\n",
       "    </tr>\n",
       "    <tr>\n",
       "      <th>3</th>\n",
       "      <td>NaN</td>\n",
       "      <td>Jardim Morumbi</td>\n",
       "      <td>São Paulo</td>\n",
       "      <td>310</td>\n",
       "      <td>3</td>\n",
       "      <td>2</td>\n",
       "      <td>4</td>\n",
       "      <td>R$ 685.000</td>\n",
       "    </tr>\n",
       "    <tr>\n",
       "      <th>4</th>\n",
       "      <td>Rua Tobias Barreto, 195</td>\n",
       "      <td>Mooca</td>\n",
       "      <td>São Paulo</td>\n",
       "      <td>100</td>\n",
       "      <td>3</td>\n",
       "      <td>2</td>\n",
       "      <td>2</td>\n",
       "      <td>R$ 540.000</td>\n",
       "    </tr>\n",
       "  </tbody>\n",
       "</table>\n",
       "</div>"
      ],
      "text/plain": [
       "                              Rua              Bairro     Cidade  Metragem  \\\n",
       "0           Avenida Itacira, 255    Planalto Paulista  São Paulo      1000   \n",
       "1  Rua Aurelia Perez Alvarez, 42   Jardim dos Estados  São Paulo       496   \n",
       "2                 Rua Alba Valdez     Jardim Reimberg  São Paulo       125   \n",
       "3                             NaN      Jardim Morumbi  São Paulo       310   \n",
       "4        Rua Tobias Barreto, 195                Mooca  São Paulo       100   \n",
       "\n",
       "   Quartos  Banheiros  Vagas         Valor  \n",
       "0        4          8      6  R$ 7.000.000  \n",
       "1        4          4      4  R$ 3.700.000  \n",
       "2        4          3      2    R$ 380.000  \n",
       "3        3          2      4    R$ 685.000  \n",
       "4        3          2      2    R$ 540.000  "
      ]
     },
     "execution_count": 3,
     "metadata": {},
     "output_type": "execute_result"
    }
   ],
   "source": [
    "dados.head(5)"
   ]
  },
  {
   "cell_type": "markdown",
   "id": "f7410aa9-640f-4676-88b6-47f747583b5a",
   "metadata": {},
   "source": [
    "### Exibição dos N aleatórios dados do Dataframe (Amostragem)"
   ]
  },
  {
   "cell_type": "code",
   "execution_count": 4,
   "id": "6581365a-ceb4-4a45-a2b8-e4b5c00fcef9",
   "metadata": {},
   "outputs": [
    {
     "data": {
      "text/html": [
       "<div>\n",
       "<style scoped>\n",
       "    .dataframe tbody tr th:only-of-type {\n",
       "        vertical-align: middle;\n",
       "    }\n",
       "\n",
       "    .dataframe tbody tr th {\n",
       "        vertical-align: top;\n",
       "    }\n",
       "\n",
       "    .dataframe thead th {\n",
       "        text-align: right;\n",
       "    }\n",
       "</style>\n",
       "<table border=\"1\" class=\"dataframe\">\n",
       "  <thead>\n",
       "    <tr style=\"text-align: right;\">\n",
       "      <th></th>\n",
       "      <th>Rua</th>\n",
       "      <th>Bairro</th>\n",
       "      <th>Cidade</th>\n",
       "      <th>Metragem</th>\n",
       "      <th>Quartos</th>\n",
       "      <th>Banheiros</th>\n",
       "      <th>Vagas</th>\n",
       "      <th>Valor</th>\n",
       "    </tr>\n",
       "  </thead>\n",
       "  <tbody>\n",
       "    <tr>\n",
       "      <th>63</th>\n",
       "      <td>Rua Taiaçupeba</td>\n",
       "      <td>Quinta da Paineira</td>\n",
       "      <td>São Paulo</td>\n",
       "      <td>350</td>\n",
       "      <td>3</td>\n",
       "      <td>5</td>\n",
       "      <td>6</td>\n",
       "      <td>R$ 980.000</td>\n",
       "    </tr>\n",
       "    <tr>\n",
       "      <th>6687</th>\n",
       "      <td>NaN</td>\n",
       "      <td>Jardim Paulista</td>\n",
       "      <td>São Paulo</td>\n",
       "      <td>705</td>\n",
       "      <td>4</td>\n",
       "      <td>6</td>\n",
       "      <td>3</td>\n",
       "      <td>R$ 11.000.000</td>\n",
       "    </tr>\n",
       "    <tr>\n",
       "      <th>448</th>\n",
       "      <td>NaN</td>\n",
       "      <td>Jardim Paulistano</td>\n",
       "      <td>São Paulo</td>\n",
       "      <td>200</td>\n",
       "      <td>3</td>\n",
       "      <td>3</td>\n",
       "      <td>2</td>\n",
       "      <td>R$ 3.280.000</td>\n",
       "    </tr>\n",
       "    <tr>\n",
       "      <th>6102</th>\n",
       "      <td>NaN</td>\n",
       "      <td>Jardim Monte Alegre</td>\n",
       "      <td>São Paulo</td>\n",
       "      <td>100</td>\n",
       "      <td>2</td>\n",
       "      <td>2</td>\n",
       "      <td>3</td>\n",
       "      <td>R$ 330.000</td>\n",
       "    </tr>\n",
       "    <tr>\n",
       "      <th>782</th>\n",
       "      <td>Rua Desembargador Ferreira França</td>\n",
       "      <td>Alto de Pinheiros</td>\n",
       "      <td>São Paulo</td>\n",
       "      <td>459</td>\n",
       "      <td>4</td>\n",
       "      <td>5</td>\n",
       "      <td>6</td>\n",
       "      <td>R$ 8.000.000</td>\n",
       "    </tr>\n",
       "  </tbody>\n",
       "</table>\n",
       "</div>"
      ],
      "text/plain": [
       "                                    Rua               Bairro     Cidade  \\\n",
       "63                       Rua Taiaçupeba   Quinta da Paineira  São Paulo   \n",
       "6687                                NaN      Jardim Paulista  São Paulo   \n",
       "448                                 NaN    Jardim Paulistano  São Paulo   \n",
       "6102                                NaN  Jardim Monte Alegre  São Paulo   \n",
       "782   Rua Desembargador Ferreira França    Alto de Pinheiros  São Paulo   \n",
       "\n",
       "      Metragem  Quartos  Banheiros  Vagas          Valor  \n",
       "63         350        3          5      6     R$ 980.000  \n",
       "6687       705        4          6      3  R$ 11.000.000  \n",
       "448        200        3          3      2   R$ 3.280.000  \n",
       "6102       100        2          2      3     R$ 330.000  \n",
       "782        459        4          5      6   R$ 8.000.000  "
      ]
     },
     "execution_count": 4,
     "metadata": {},
     "output_type": "execute_result"
    }
   ],
   "source": [
    "dados.sample(5)"
   ]
  },
  {
   "cell_type": "markdown",
   "id": "72ff35b4-3f1c-4333-977a-2c7bb68e3ca0",
   "metadata": {},
   "source": [
    "### Exibindo as informações do Dataframe"
   ]
  },
  {
   "cell_type": "code",
   "execution_count": 5,
   "id": "2224b2bd-6ce0-4319-a04c-ca1dfd085a5c",
   "metadata": {},
   "outputs": [
    {
     "name": "stdout",
     "output_type": "stream",
     "text": [
      "<class 'pandas.core.frame.DataFrame'>\n",
      "RangeIndex: 10008 entries, 0 to 10007\n",
      "Data columns (total 8 columns):\n",
      " #   Column     Non-Null Count  Dtype \n",
      "---  ------     --------------  ----- \n",
      " 0   Rua        6574 non-null   object\n",
      " 1   Bairro     9996 non-null   object\n",
      " 2   Cidade     10008 non-null  object\n",
      " 3   Metragem   10008 non-null  int64 \n",
      " 4   Quartos    10008 non-null  int64 \n",
      " 5   Banheiros  10008 non-null  int64 \n",
      " 6   Vagas      10008 non-null  int64 \n",
      " 7   Valor      10008 non-null  object\n",
      "dtypes: int64(4), object(4)\n",
      "memory usage: 625.6+ KB\n"
     ]
    }
   ],
   "source": [
    "dados.info()"
   ]
  },
  {
   "cell_type": "markdown",
   "id": "67b03dee-b40d-46ca-8048-ccc8191990c7",
   "metadata": {},
   "source": [
    "### Seleção da Coluna 'Bairro' e o dado da linha 6522"
   ]
  },
  {
   "cell_type": "code",
   "execution_count": 6,
   "id": "48673db1-69b2-4e1e-99ae-cde3c99019ad",
   "metadata": {},
   "outputs": [
    {
     "data": {
      "text/plain": [
       "'Vila Paulo Silas'"
      ]
     },
     "execution_count": 6,
     "metadata": {},
     "output_type": "execute_result"
    }
   ],
   "source": [
    "dados[\"Bairro\"][6522]"
   ]
  },
  {
   "cell_type": "markdown",
   "id": "e78047bc-b906-44a6-a1d8-d8e8b7a67dfd",
   "metadata": {},
   "source": [
    "### Primeira forma de Exibição da média dos dados contídos na Metragem"
   ]
  },
  {
   "cell_type": "code",
   "execution_count": 7,
   "id": "e2fd0cd2-fc9d-473f-a95a-333132d92ed8",
   "metadata": {},
   "outputs": [
    {
     "data": {
      "text/plain": [
       "442.30065947242207"
      ]
     },
     "execution_count": 7,
     "metadata": {},
     "output_type": "execute_result"
    }
   ],
   "source": [
    "dados.Metragem.mean()"
   ]
  },
  {
   "cell_type": "markdown",
   "id": "8f275815-02cc-421e-80b5-be0d7dc69b79",
   "metadata": {},
   "source": [
    "### Segunda forma de Exibição da média dos dados contídos na Metragem"
   ]
  },
  {
   "cell_type": "code",
   "execution_count": 8,
   "id": "6123b0db-c804-4524-8c32-d95a4389bad7",
   "metadata": {},
   "outputs": [
    {
     "data": {
      "text/plain": [
       "442.30065947242207"
      ]
     },
     "execution_count": 8,
     "metadata": {},
     "output_type": "execute_result"
    }
   ],
   "source": [
    "dados[\"Metragem\"].mean()"
   ]
  },
  {
   "cell_type": "markdown",
   "id": "d6a992fe-c2f9-4ed6-8fea-97c8a53bb62b",
   "metadata": {},
   "source": [
    "### Forma de validar se existe uma informação na coluna"
   ]
  },
  {
   "cell_type": "code",
   "execution_count": 9,
   "id": "bec2f90c-9782-4c32-9042-306f1a286e7e",
   "metadata": {},
   "outputs": [
    {
     "data": {
      "text/plain": [
       "184"
      ]
     },
     "execution_count": 9,
     "metadata": {},
     "output_type": "execute_result"
    }
   ],
   "source": [
    "sum(dados[\"Bairro\"] == \"Vila Mariana\")"
   ]
  },
  {
   "cell_type": "markdown",
   "id": "9eafb6b3-0436-4a25-95e5-7ba02bede9b8",
   "metadata": {},
   "source": [
    "### Forma de salvar um filtro de uma informação na colua"
   ]
  },
  {
   "cell_type": "code",
   "execution_count": 10,
   "id": "91a57303-96e7-4ba3-8e3b-5ef240e6f4e1",
   "metadata": {},
   "outputs": [
    {
     "data": {
      "text/plain": [
       "0        False\n",
       "1        False\n",
       "2        False\n",
       "3        False\n",
       "4        False\n",
       "         ...  \n",
       "10003    False\n",
       "10004    False\n",
       "10005    False\n",
       "10006    False\n",
       "10007    False\n",
       "Name: Bairro, Length: 10008, dtype: bool"
      ]
     },
     "execution_count": 10,
     "metadata": {},
     "output_type": "execute_result"
    }
   ],
   "source": [
    "tem_imoveis_vila = dados[\"Bairro\"] == \"Vila Mariana\"\n",
    "tem_imoveis_vila"
   ]
  },
  {
   "cell_type": "markdown",
   "id": "169291f4-0e40-497a-9e62-5fe13df2d1fb",
   "metadata": {},
   "source": [
    "### Salvando dados do filtro"
   ]
  },
  {
   "cell_type": "code",
   "execution_count": 11,
   "id": "564e99d7-ef0b-4385-9d25-516c5f4b9438",
   "metadata": {},
   "outputs": [
    {
     "data": {
      "text/html": [
       "<div>\n",
       "<style scoped>\n",
       "    .dataframe tbody tr th:only-of-type {\n",
       "        vertical-align: middle;\n",
       "    }\n",
       "\n",
       "    .dataframe tbody tr th {\n",
       "        vertical-align: top;\n",
       "    }\n",
       "\n",
       "    .dataframe thead th {\n",
       "        text-align: right;\n",
       "    }\n",
       "</style>\n",
       "<table border=\"1\" class=\"dataframe\">\n",
       "  <thead>\n",
       "    <tr style=\"text-align: right;\">\n",
       "      <th></th>\n",
       "      <th>Rua</th>\n",
       "      <th>Bairro</th>\n",
       "      <th>Cidade</th>\n",
       "      <th>Metragem</th>\n",
       "      <th>Quartos</th>\n",
       "      <th>Banheiros</th>\n",
       "      <th>Vagas</th>\n",
       "      <th>Valor</th>\n",
       "    </tr>\n",
       "  </thead>\n",
       "  <tbody>\n",
       "    <tr>\n",
       "      <th>100</th>\n",
       "      <td>Rua Pero Correia</td>\n",
       "      <td>Vila Mariana</td>\n",
       "      <td>São Paulo</td>\n",
       "      <td>250</td>\n",
       "      <td>3</td>\n",
       "      <td>3</td>\n",
       "      <td>1</td>\n",
       "      <td>R$ 1.350.000</td>\n",
       "    </tr>\n",
       "    <tr>\n",
       "      <th>120</th>\n",
       "      <td>Praça Doutor Carvalho Franco</td>\n",
       "      <td>Vila Mariana</td>\n",
       "      <td>São Paulo</td>\n",
       "      <td>250</td>\n",
       "      <td>3</td>\n",
       "      <td>5</td>\n",
       "      <td>2</td>\n",
       "      <td>R$ 2.450.000</td>\n",
       "    </tr>\n",
       "    <tr>\n",
       "      <th>155</th>\n",
       "      <td>Rua Professor João Marinho</td>\n",
       "      <td>Vila Mariana</td>\n",
       "      <td>São Paulo</td>\n",
       "      <td>170</td>\n",
       "      <td>3</td>\n",
       "      <td>4</td>\n",
       "      <td>2</td>\n",
       "      <td>R$ 1.490.000</td>\n",
       "    </tr>\n",
       "    <tr>\n",
       "      <th>160</th>\n",
       "      <td>NaN</td>\n",
       "      <td>Vila Mariana</td>\n",
       "      <td>São Paulo</td>\n",
       "      <td>228</td>\n",
       "      <td>4</td>\n",
       "      <td>5</td>\n",
       "      <td>3</td>\n",
       "      <td>R$ 2.200.000</td>\n",
       "    </tr>\n",
       "    <tr>\n",
       "      <th>334</th>\n",
       "      <td>Rua Pero Correia, 892</td>\n",
       "      <td>Vila Mariana</td>\n",
       "      <td>São Paulo</td>\n",
       "      <td>350</td>\n",
       "      <td>6</td>\n",
       "      <td>4</td>\n",
       "      <td>10</td>\n",
       "      <td>R$ 1.700.000</td>\n",
       "    </tr>\n",
       "    <tr>\n",
       "      <th>...</th>\n",
       "      <td>...</td>\n",
       "      <td>...</td>\n",
       "      <td>...</td>\n",
       "      <td>...</td>\n",
       "      <td>...</td>\n",
       "      <td>...</td>\n",
       "      <td>...</td>\n",
       "      <td>...</td>\n",
       "    </tr>\n",
       "    <tr>\n",
       "      <th>9645</th>\n",
       "      <td>Rua Sousa Ramos</td>\n",
       "      <td>Vila Mariana</td>\n",
       "      <td>São Paulo</td>\n",
       "      <td>285</td>\n",
       "      <td>3</td>\n",
       "      <td>5</td>\n",
       "      <td>5</td>\n",
       "      <td>R$ 1.650.000</td>\n",
       "    </tr>\n",
       "    <tr>\n",
       "      <th>9701</th>\n",
       "      <td>Rua Benito Juarez</td>\n",
       "      <td>Vila Mariana</td>\n",
       "      <td>São Paulo</td>\n",
       "      <td>171</td>\n",
       "      <td>3</td>\n",
       "      <td>2</td>\n",
       "      <td>4</td>\n",
       "      <td>R$ 1.650.000</td>\n",
       "    </tr>\n",
       "    <tr>\n",
       "      <th>9737</th>\n",
       "      <td>Rua Benito Juarez</td>\n",
       "      <td>Vila Mariana</td>\n",
       "      <td>São Paulo</td>\n",
       "      <td>171</td>\n",
       "      <td>3</td>\n",
       "      <td>2</td>\n",
       "      <td>4</td>\n",
       "      <td>R$ 1.650.000</td>\n",
       "    </tr>\n",
       "    <tr>\n",
       "      <th>9807</th>\n",
       "      <td>NaN</td>\n",
       "      <td>Vila Mariana</td>\n",
       "      <td>São Paulo</td>\n",
       "      <td>275</td>\n",
       "      <td>3</td>\n",
       "      <td>1</td>\n",
       "      <td>6</td>\n",
       "      <td>R$ 1.500.000</td>\n",
       "    </tr>\n",
       "    <tr>\n",
       "      <th>9852</th>\n",
       "      <td>Rua França Pinto</td>\n",
       "      <td>Vila Mariana</td>\n",
       "      <td>São Paulo</td>\n",
       "      <td>280</td>\n",
       "      <td>3</td>\n",
       "      <td>3</td>\n",
       "      <td>4</td>\n",
       "      <td>R$ 1.600.000</td>\n",
       "    </tr>\n",
       "  </tbody>\n",
       "</table>\n",
       "<p>184 rows × 8 columns</p>\n",
       "</div>"
      ],
      "text/plain": [
       "                               Rua        Bairro     Cidade  Metragem  \\\n",
       "100               Rua Pero Correia  Vila Mariana  São Paulo       250   \n",
       "120   Praça Doutor Carvalho Franco  Vila Mariana  São Paulo       250   \n",
       "155     Rua Professor João Marinho  Vila Mariana  São Paulo       170   \n",
       "160                            NaN  Vila Mariana  São Paulo       228   \n",
       "334         Rua Pero Correia, 892   Vila Mariana  São Paulo       350   \n",
       "...                            ...           ...        ...       ...   \n",
       "9645               Rua Sousa Ramos  Vila Mariana  São Paulo       285   \n",
       "9701             Rua Benito Juarez  Vila Mariana  São Paulo       171   \n",
       "9737             Rua Benito Juarez  Vila Mariana  São Paulo       171   \n",
       "9807                           NaN  Vila Mariana  São Paulo       275   \n",
       "9852              Rua França Pinto  Vila Mariana  São Paulo       280   \n",
       "\n",
       "      Quartos  Banheiros  Vagas         Valor  \n",
       "100         3          3      1  R$ 1.350.000  \n",
       "120         3          5      2  R$ 2.450.000  \n",
       "155         3          4      2  R$ 1.490.000  \n",
       "160         4          5      3  R$ 2.200.000  \n",
       "334         6          4     10  R$ 1.700.000  \n",
       "...       ...        ...    ...           ...  \n",
       "9645        3          5      5  R$ 1.650.000  \n",
       "9701        3          2      4  R$ 1.650.000  \n",
       "9737        3          2      4  R$ 1.650.000  \n",
       "9807        3          1      6  R$ 1.500.000  \n",
       "9852        3          3      4  R$ 1.600.000  \n",
       "\n",
       "[184 rows x 8 columns]"
      ]
     },
     "execution_count": 11,
     "metadata": {},
     "output_type": "execute_result"
    }
   ],
   "source": [
    "imoveis_vila_mariana = dados[tem_imoveis_vila]\n",
    "imoveis_vila_mariana"
   ]
  },
  {
   "cell_type": "markdown",
   "id": "ca2c4c55-1b15-4a5b-afb2-132f6d31bd4d",
   "metadata": {},
   "source": [
    "### Média de Metragem dos dados filtrados"
   ]
  },
  {
   "cell_type": "code",
   "execution_count": 12,
   "id": "3b75ce8b-8790-4c20-9c51-2a57714d6901",
   "metadata": {},
   "outputs": [
    {
     "data": {
      "text/plain": [
       "233.6195652173913"
      ]
     },
     "execution_count": 12,
     "metadata": {},
     "output_type": "execute_result"
    }
   ],
   "source": [
    "imoveis_vila_mariana[\"Metragem\"].mean()"
   ]
  },
  {
   "cell_type": "markdown",
   "id": "d44d7bf2-9bf1-46aa-b176-b491f23148f5",
   "metadata": {},
   "source": [
    "### Contagem de dados organizado pelas informações da coluna Bairro"
   ]
  },
  {
   "cell_type": "code",
   "execution_count": 13,
   "id": "e486a934-e7d2-4765-a7a1-4fa1faa3a9bb",
   "metadata": {},
   "outputs": [
    {
     "data": {
      "text/plain": [
       "Alto de Pinheiros    409\n",
       "Jardim Guedala       403\n",
       "Jardim Paulista      309\n",
       "Brooklin Paulista    247\n",
       "Jardim Europa        240\n",
       "                    ... \n",
       "Vila Castelo           1\n",
       "Jardim Tremembé        1\n",
       "Vila Guaca             1\n",
       "Vila Euthalia          1\n",
       "Jardim Record          1\n",
       "Name: Bairro, Length: 701, dtype: int64"
      ]
     },
     "execution_count": 13,
     "metadata": {},
     "output_type": "execute_result"
    }
   ],
   "source": [
    "dados[\"Bairro\"].value_counts()"
   ]
  },
  {
   "cell_type": "markdown",
   "id": "8b52c263-2527-45c6-ab4f-4f0e3aee7f7a",
   "metadata": {},
   "source": [
    "### Gráfico de Barra da contagem de dados agrupado pela coluna de Bairro"
   ]
  },
  {
   "cell_type": "code",
   "execution_count": 14,
   "id": "4bda6b5f-4eb0-4042-a274-dab584335112",
   "metadata": {},
   "outputs": [
    {
     "data": {
      "text/plain": [
       "<AxesSubplot:>"
      ]
     },
     "execution_count": 14,
     "metadata": {},
     "output_type": "execute_result"
    },
    {
     "data": {
      "image/png": "[encoded data removed]",
      "text/plain": [
       "<Figure size 432x288 with 1 Axes>"
      ]
     },
     "metadata": {
      "needs_background": "light"
     },
     "output_type": "display_data"
    }
   ],
   "source": [
    "n_imoveis_bairro = dados[\"Bairro\"].value_counts()\n",
    "n_imoveis_bairro.head(10).plot.bar()"
   ]
  },
  {
   "cell_type": "markdown",
   "id": "01b8acf5-2aee-44fa-9e7f-ed480f3c20b8",
   "metadata": {
    "tags": []
   },
   "source": [
    "## Desafios"
   ]
  },
  {
   "cell_type": "markdown",
   "id": "7a3f52aa-e29c-4b97-95e1-f37ff4e869b2",
   "metadata": {},
   "source": [
    "1 - Realizar a média da metragem para cada um dos bairros. (Paulo)\n",
    "\n",
    "2 - Duas formas de selecionar os dados por bairro (consultar os métodos na documentação do Pandas). (Thiago)\n",
    "\n",
    "3 - Explorar alguns gráficos na documentação e aplicar nas demais colunas do DF, assim como tentar colocar alguma conclusão. (Thiago)\n",
    "\n",
    "4 - Pegar outras estatísticas dos dados (como média, mediana, mim, max). (Vivi)\n",
    "\n",
    "5 - Descobrir quais são os bairros que não tem nome de rua. (Vivi)"
   ]
  },
  {
   "cell_type": "markdown",
   "id": "05a719c0-0329-4c04-9d29-0ad3c6df5e7f",
   "metadata": {},
   "source": [
    "### 1) Realizar a média da metragem para cada um dos bairros."
   ]
  },
  {
   "cell_type": "code",
   "execution_count": 15,
   "id": "786dacb2-59ff-4c35-a36c-62c5e842dcac",
   "metadata": {},
   "outputs": [
    {
     "data": {
      "text/plain": [
       "Bairro\n",
       "Aclimação            253.056818\n",
       "Alto da Boa Vista    418.875000\n",
       "Alto da Lapa         294.337209\n",
       "Alto da Mooca        270.050000\n",
       "Alto de Pinheiros    433.444988\n",
       "Name: Metragem, dtype: float64"
      ]
     },
     "execution_count": 15,
     "metadata": {},
     "output_type": "execute_result"
    }
   ],
   "source": [
    "# Separação dos dados por Grupos baseado em Bairro\n",
    "grupo_bairro = dados.groupby(\"Bairro\")\n",
    "# Média da Metragem\n",
    "grupo_bairro_media_metragem = grupo_bairro.Metragem.mean()\n",
    "grupo_bairro_media_metragem.head(5)"
   ]
  },
  {
   "cell_type": "code",
   "execution_count": 16,
   "id": "fd05d454-882a-414b-8013-991ea07a0d09",
   "metadata": {},
   "outputs": [
    {
     "data": {
      "text/plain": [
       "<AxesSubplot:xlabel='Bairro'>"
      ]
     },
     "execution_count": 16,
     "metadata": {},
     "output_type": "execute_result"
    },
    {
     "data": {
      "image/png": "[encoded data removed]",
      "text/plain": [
       "<Figure size 432x288 with 1 Axes>"
      ]
     },
     "metadata": {
      "needs_background": "light"
     },
     "output_type": "display_data"
    }
   ],
   "source": [
    "# 30 maiores Metragens em gráfico de barra\n",
    "grupo_bairro_media_metragem.sort_values(ascending = False).head(30).plot.bar()"
   ]
  },
  {
   "cell_type": "markdown",
   "id": "eeab651a-8e79-4e02-a631-d29d6833d181",
   "metadata": {},
   "source": [
    "### 2) Duas formas de selecionar os dados por bairro (consultar os métodos na documentação do Pandas)."
   ]
  },
  {
   "cell_type": "code",
   "execution_count": 17,
   "id": "791ebf40-7334-4945-9bed-f4894379a2a5",
   "metadata": {},
   "outputs": [
    {
     "data": {
      "text/html": [
       "<div>\n",
       "<style scoped>\n",
       "    .dataframe tbody tr th:only-of-type {\n",
       "        vertical-align: middle;\n",
       "    }\n",
       "\n",
       "    .dataframe tbody tr th {\n",
       "        vertical-align: top;\n",
       "    }\n",
       "\n",
       "    .dataframe thead th {\n",
       "        text-align: right;\n",
       "    }\n",
       "</style>\n",
       "<table border=\"1\" class=\"dataframe\">\n",
       "  <thead>\n",
       "    <tr style=\"text-align: right;\">\n",
       "      <th></th>\n",
       "      <th>Rua</th>\n",
       "      <th>Bairro</th>\n",
       "      <th>Cidade</th>\n",
       "      <th>Metragem</th>\n",
       "      <th>Quartos</th>\n",
       "      <th>Banheiros</th>\n",
       "      <th>Vagas</th>\n",
       "      <th>Valor</th>\n",
       "    </tr>\n",
       "  </thead>\n",
       "  <tbody>\n",
       "    <tr>\n",
       "      <th>65</th>\n",
       "      <td>Rua da Paz, 89</td>\n",
       "      <td>Alto da Boa Vista</td>\n",
       "      <td>São Paulo</td>\n",
       "      <td>386</td>\n",
       "      <td>4</td>\n",
       "      <td>4</td>\n",
       "      <td>5</td>\n",
       "      <td>R$ 1.680.000</td>\n",
       "    </tr>\n",
       "    <tr>\n",
       "      <th>143</th>\n",
       "      <td>Rua Américo Brasiliense</td>\n",
       "      <td>Alto da Boa Vista</td>\n",
       "      <td>São Paulo</td>\n",
       "      <td>340</td>\n",
       "      <td>4</td>\n",
       "      <td>6</td>\n",
       "      <td>7</td>\n",
       "      <td>R$ 2.200.000</td>\n",
       "    </tr>\n",
       "    <tr>\n",
       "      <th>339</th>\n",
       "      <td>Rua Américo Brasiliense</td>\n",
       "      <td>Alto da Boa Vista</td>\n",
       "      <td>São Paulo</td>\n",
       "      <td>350</td>\n",
       "      <td>4</td>\n",
       "      <td>6</td>\n",
       "      <td>4</td>\n",
       "      <td>R$ 2.200.000</td>\n",
       "    </tr>\n",
       "    <tr>\n",
       "      <th>3426</th>\n",
       "      <td>Rua da Paz</td>\n",
       "      <td>Alto da Boa Vista</td>\n",
       "      <td>São Paulo</td>\n",
       "      <td>315</td>\n",
       "      <td>4</td>\n",
       "      <td>6</td>\n",
       "      <td>4</td>\n",
       "      <td>R$ 2.350.000</td>\n",
       "    </tr>\n",
       "    <tr>\n",
       "      <th>4123</th>\n",
       "      <td>Rua Américo Brasiliense</td>\n",
       "      <td>Alto da Boa Vista</td>\n",
       "      <td>São Paulo</td>\n",
       "      <td>370</td>\n",
       "      <td>4</td>\n",
       "      <td>3</td>\n",
       "      <td>3</td>\n",
       "      <td>R$ 2.750.000</td>\n",
       "    </tr>\n",
       "  </tbody>\n",
       "</table>\n",
       "</div>"
      ],
      "text/plain": [
       "                          Rua             Bairro     Cidade  Metragem  \\\n",
       "65            Rua da Paz, 89   Alto da Boa Vista  São Paulo       386   \n",
       "143   Rua Américo Brasiliense  Alto da Boa Vista  São Paulo       340   \n",
       "339   Rua Américo Brasiliense  Alto da Boa Vista  São Paulo       350   \n",
       "3426               Rua da Paz  Alto da Boa Vista  São Paulo       315   \n",
       "4123  Rua Américo Brasiliense  Alto da Boa Vista  São Paulo       370   \n",
       "\n",
       "      Quartos  Banheiros  Vagas         Valor  \n",
       "65          4          4      5  R$ 1.680.000  \n",
       "143         4          6      7  R$ 2.200.000  \n",
       "339         4          6      4  R$ 2.200.000  \n",
       "3426        4          6      4  R$ 2.350.000  \n",
       "4123        4          3      3  R$ 2.750.000  "
      ]
     },
     "execution_count": 17,
     "metadata": {},
     "output_type": "execute_result"
    }
   ],
   "source": [
    "# Filtro padrão de dados mais usado\n",
    "dados[dados[\"Bairro\"] == \"Alto da Boa Vista\"].head(5)"
   ]
  },
  {
   "cell_type": "code",
   "execution_count": 18,
   "id": "cb324463-5c9d-499e-b98e-fe26b8063e20",
   "metadata": {},
   "outputs": [
    {
     "data": {
      "text/html": [
       "<div>\n",
       "<style scoped>\n",
       "    .dataframe tbody tr th:only-of-type {\n",
       "        vertical-align: middle;\n",
       "    }\n",
       "\n",
       "    .dataframe tbody tr th {\n",
       "        vertical-align: top;\n",
       "    }\n",
       "\n",
       "    .dataframe thead th {\n",
       "        text-align: right;\n",
       "    }\n",
       "</style>\n",
       "<table border=\"1\" class=\"dataframe\">\n",
       "  <thead>\n",
       "    <tr style=\"text-align: right;\">\n",
       "      <th></th>\n",
       "      <th>Rua</th>\n",
       "      <th>Bairro</th>\n",
       "      <th>Cidade</th>\n",
       "      <th>Metragem</th>\n",
       "      <th>Quartos</th>\n",
       "      <th>Banheiros</th>\n",
       "      <th>Vagas</th>\n",
       "      <th>Valor</th>\n",
       "    </tr>\n",
       "  </thead>\n",
       "  <tbody>\n",
       "    <tr>\n",
       "      <th>61</th>\n",
       "      <td>Rua Peribebuí</td>\n",
       "      <td>Alto da Lapa</td>\n",
       "      <td>São Paulo</td>\n",
       "      <td>440</td>\n",
       "      <td>4</td>\n",
       "      <td>6</td>\n",
       "      <td>7</td>\n",
       "      <td>R$ 2.200.000</td>\n",
       "    </tr>\n",
       "    <tr>\n",
       "      <th>86</th>\n",
       "      <td>Rua dos Aliados</td>\n",
       "      <td>Alto da Lapa</td>\n",
       "      <td>São Paulo</td>\n",
       "      <td>500</td>\n",
       "      <td>5</td>\n",
       "      <td>7</td>\n",
       "      <td>7</td>\n",
       "      <td>R$ 3.500.000</td>\n",
       "    </tr>\n",
       "    <tr>\n",
       "      <th>91</th>\n",
       "      <td>Rua Iagari</td>\n",
       "      <td>Alto da Lapa</td>\n",
       "      <td>São Paulo</td>\n",
       "      <td>243</td>\n",
       "      <td>3</td>\n",
       "      <td>5</td>\n",
       "      <td>3</td>\n",
       "      <td>R$ 2.400.000</td>\n",
       "    </tr>\n",
       "    <tr>\n",
       "      <th>158</th>\n",
       "      <td>Rua Princesa Leopoldina</td>\n",
       "      <td>Alto da Lapa</td>\n",
       "      <td>São Paulo</td>\n",
       "      <td>100</td>\n",
       "      <td>2</td>\n",
       "      <td>2</td>\n",
       "      <td>1</td>\n",
       "      <td>R$ 940.000</td>\n",
       "    </tr>\n",
       "    <tr>\n",
       "      <th>169</th>\n",
       "      <td>NaN</td>\n",
       "      <td>Alto da Lapa</td>\n",
       "      <td>São Paulo</td>\n",
       "      <td>170</td>\n",
       "      <td>4</td>\n",
       "      <td>5</td>\n",
       "      <td>6</td>\n",
       "      <td>R$ 1.700.000</td>\n",
       "    </tr>\n",
       "  </tbody>\n",
       "</table>\n",
       "</div>"
      ],
      "text/plain": [
       "                         Rua        Bairro     Cidade  Metragem  Quartos  \\\n",
       "61             Rua Peribebuí  Alto da Lapa  São Paulo       440        4   \n",
       "86           Rua dos Aliados  Alto da Lapa  São Paulo       500        5   \n",
       "91                Rua Iagari  Alto da Lapa  São Paulo       243        3   \n",
       "158  Rua Princesa Leopoldina  Alto da Lapa  São Paulo       100        2   \n",
       "169                      NaN  Alto da Lapa  São Paulo       170        4   \n",
       "\n",
       "     Banheiros  Vagas         Valor  \n",
       "61           6      7  R$ 2.200.000  \n",
       "86           7      7  R$ 3.500.000  \n",
       "91           5      3  R$ 2.400.000  \n",
       "158          2      1    R$ 940.000  \n",
       "169          5      6  R$ 1.700.000  "
      ]
     },
     "execution_count": 18,
     "metadata": {},
     "output_type": "execute_result"
    }
   ],
   "source": [
    "# Filtro baseado na estrutura de Query\n",
    "dados.query(\"Bairro == 'Alto da Lapa'\").head(5)"
   ]
  },
  {
   "cell_type": "code",
   "execution_count": 19,
   "id": "eaeb2008-e932-4d2b-a73f-788780800b69",
   "metadata": {},
   "outputs": [
    {
     "data": {
      "text/html": [
       "<div>\n",
       "<style scoped>\n",
       "    .dataframe tbody tr th:only-of-type {\n",
       "        vertical-align: middle;\n",
       "    }\n",
       "\n",
       "    .dataframe tbody tr th {\n",
       "        vertical-align: top;\n",
       "    }\n",
       "\n",
       "    .dataframe thead th {\n",
       "        text-align: right;\n",
       "    }\n",
       "</style>\n",
       "<table border=\"1\" class=\"dataframe\">\n",
       "  <thead>\n",
       "    <tr style=\"text-align: right;\">\n",
       "      <th></th>\n",
       "      <th>Rua</th>\n",
       "      <th>Bairro</th>\n",
       "      <th>Cidade</th>\n",
       "      <th>Metragem</th>\n",
       "      <th>Quartos</th>\n",
       "      <th>Banheiros</th>\n",
       "      <th>Vagas</th>\n",
       "      <th>Valor</th>\n",
       "    </tr>\n",
       "  </thead>\n",
       "  <tbody>\n",
       "    <tr>\n",
       "      <th>2324</th>\n",
       "      <td>Rua Jupuruchita, 168</td>\n",
       "      <td>Alto da Mooca</td>\n",
       "      <td>São Paulo</td>\n",
       "      <td>190</td>\n",
       "      <td>3</td>\n",
       "      <td>1</td>\n",
       "      <td>3</td>\n",
       "      <td>R$ 1.049.400</td>\n",
       "    </tr>\n",
       "    <tr>\n",
       "      <th>2435</th>\n",
       "      <td>Rua Professor Oliveira Fausto, 260</td>\n",
       "      <td>Alto da Mooca</td>\n",
       "      <td>São Paulo</td>\n",
       "      <td>360</td>\n",
       "      <td>4</td>\n",
       "      <td>1</td>\n",
       "      <td>4</td>\n",
       "      <td>R$ 1.600.000</td>\n",
       "    </tr>\n",
       "    <tr>\n",
       "      <th>2451</th>\n",
       "      <td>Rua Martins Bonilha, 21</td>\n",
       "      <td>Alto da Mooca</td>\n",
       "      <td>São Paulo</td>\n",
       "      <td>175</td>\n",
       "      <td>6</td>\n",
       "      <td>3</td>\n",
       "      <td>2</td>\n",
       "      <td>R$ 1.300.000</td>\n",
       "    </tr>\n",
       "    <tr>\n",
       "      <th>2494</th>\n",
       "      <td>Rua Leopoldo Fróes</td>\n",
       "      <td>Alto da Mooca</td>\n",
       "      <td>São Paulo</td>\n",
       "      <td>170</td>\n",
       "      <td>3</td>\n",
       "      <td>3</td>\n",
       "      <td>5</td>\n",
       "      <td>R$ 950.000</td>\n",
       "    </tr>\n",
       "    <tr>\n",
       "      <th>5218</th>\n",
       "      <td>Rua Pedro Nascimento Ferrador</td>\n",
       "      <td>Alto da Mooca</td>\n",
       "      <td>São Paulo</td>\n",
       "      <td>117</td>\n",
       "      <td>3</td>\n",
       "      <td>2</td>\n",
       "      <td>2</td>\n",
       "      <td>R$ 760.000</td>\n",
       "    </tr>\n",
       "  </tbody>\n",
       "</table>\n",
       "</div>"
      ],
      "text/plain": [
       "                                      Rua         Bairro     Cidade  Metragem  \\\n",
       "2324                Rua Jupuruchita, 168   Alto da Mooca  São Paulo       190   \n",
       "2435  Rua Professor Oliveira Fausto, 260   Alto da Mooca  São Paulo       360   \n",
       "2451             Rua Martins Bonilha, 21   Alto da Mooca  São Paulo       175   \n",
       "2494                   Rua Leopoldo Fróes  Alto da Mooca  São Paulo       170   \n",
       "5218        Rua Pedro Nascimento Ferrador  Alto da Mooca  São Paulo       117   \n",
       "\n",
       "      Quartos  Banheiros  Vagas         Valor  \n",
       "2324        3          1      3  R$ 1.049.400  \n",
       "2435        4          1      4  R$ 1.600.000  \n",
       "2451        6          3      2  R$ 1.300.000  \n",
       "2494        3          3      5    R$ 950.000  \n",
       "5218        3          2      2    R$ 760.000  "
      ]
     },
     "execution_count": 19,
     "metadata": {},
     "output_type": "execute_result"
    }
   ],
   "source": [
    "# Filtro que utiliza a filtragem padrão com o método Location\n",
    "dados.loc[dados[\"Bairro\"] == \"Alto da Mooca\"].head(5)"
   ]
  },
  {
   "cell_type": "markdown",
   "id": "a39c4d84-12d3-4328-9cb2-53dbbbec0f08",
   "metadata": {},
   "source": [
    "### 3) Explorar alguns gráficos na documentação e aplicar nas demais colunas do DF, assim como tentar colocar alguma conclusão."
   ]
  },
  {
   "cell_type": "markdown",
   "id": "5d548799-24fc-4bf3-8d62-1be1c2a0ede8",
   "metadata": {},
   "source": [
    "Processamento dos dados da coluna valor para poder utilizar o Valor dos imóveis. \n",
    "\n",
    "Existem valores de aluguem (por dia, mês e ano), e nesse caso, generalizei como o valor do imóveis, já que eles irão se tornar outliers "
   ]
  },
  {
   "cell_type": "code",
   "execution_count": 20,
   "id": "b8547cad-e5c1-4185-b6ad-14806103cf34",
   "metadata": {},
   "outputs": [
    {
     "name": "stderr",
     "output_type": "stream",
     "text": [
      "<ipython-input-20-c6996083f38a>:2: FutureWarning: The default value of regex will change from True to False in a future version. In addition, single character regular expressions will*not* be treated as literal strings when regex=True.\n",
      "  dados[\"Valor_Int\"] = dados[\"Valor_Int\"].str.replace(\"$\",\"\")\n",
      "<ipython-input-20-c6996083f38a>:6: FutureWarning: The default value of regex will change from True to False in a future version. In addition, single character regular expressions will*not* be treated as literal strings when regex=True.\n",
      "  dados[\"Valor_Int\"] = dados[\"Valor_Int\"].str.replace(\".\",\"\")\n"
     ]
    },
    {
     "data": {
      "text/plain": [
       "0        7000000\n",
       "1        3700000\n",
       "2         380000\n",
       "3         685000\n",
       "4         540000\n",
       "          ...   \n",
       "10003     665000\n",
       "10004    2300000\n",
       "10005    1050000\n",
       "10006       2200\n",
       "10007     270000\n",
       "Name: Valor_Int, Length: 10008, dtype: int32"
      ]
     },
     "execution_count": 20,
     "metadata": {},
     "output_type": "execute_result"
    }
   ],
   "source": [
    "dados[\"Valor_Int\"] = dados[\"Valor\"].str.replace(\"R\",\"\")\n",
    "dados[\"Valor_Int\"] = dados[\"Valor_Int\"].str.replace(\"$\",\"\")\n",
    "dados[\"Valor_Int\"] = dados[\"Valor_Int\"].str.replace(\" \",\"\")\n",
    "dados[\"Valor_Int\"] = dados[\"Valor_Int\"].str.replace(\"/\",\"\")\n",
    "dados[\"Valor_Int\"] = dados[\"Valor_Int\"].str.replace(\"\\n\",\"\")\n",
    "dados[\"Valor_Int\"] = dados[\"Valor_Int\"].str.replace(\".\",\"\")\n",
    "dados[\"Valor_Int\"] = dados[\"Valor_Int\"].str.replace(\"Ano\",\"\")\n",
    "dados[\"Valor_Int\"] = dados[\"Valor_Int\"].str.replace(\"Mês\",\"\")\n",
    "dados[\"Valor_Int\"] = dados[\"Valor_Int\"].str.replace(\"Dia\",\"\")\n",
    "dados[\"Valor_Int\"] = dados[\"Valor_Int\"].astype(int)\n",
    "dados[\"Valor_Int\"]"
   ]
  },
  {
   "cell_type": "code",
   "execution_count": 21,
   "id": "3688683b-d27b-4bef-8546-f10d61cbe854",
   "metadata": {},
   "outputs": [
    {
     "data": {
      "text/plain": [
       "<AxesSubplot:>"
      ]
     },
     "execution_count": 21,
     "metadata": {},
     "output_type": "execute_result"
    },
    {
     "data": {
      "image/png": "[encoded data removed]",
      "text/plain": [
       "<Figure size 432x288 with 1 Axes>"
      ]
     },
     "metadata": {
      "needs_background": "light"
     },
     "output_type": "display_data"
    }
   ],
   "source": [
    "dados.Quartos.hist(grid=False, ec=\"black\")"
   ]
  },
  {
   "cell_type": "markdown",
   "id": "5f9f3327-0b90-4979-ab24-b7673487bf76",
   "metadata": {},
   "source": [
    "Podemos perceber que a quantidade de imóveis com 2 até 4 quartos são muito mais frequentes, pois a tendência das cidades é possuir poucos quartos"
   ]
  },
  {
   "cell_type": "code",
   "execution_count": 22,
   "id": "5e38e763-efb6-4275-a892-c9c4aae71ed2",
   "metadata": {},
   "outputs": [
    {
     "data": {
      "text/plain": [
       "<AxesSubplot:>"
      ]
     },
     "execution_count": 22,
     "metadata": {},
     "output_type": "execute_result"
    },
    {
     "data": {
      "image/png": "[encoded data removed]",
      "text/plain": [
       "<Figure size 432x288 with 1 Axes>"
      ]
     },
     "metadata": {
      "needs_background": "light"
     },
     "output_type": "display_data"
    }
   ],
   "source": [
    "dados.Banheiros.hist(grid=False, ec=\"black\")"
   ]
  },
  {
   "cell_type": "markdown",
   "id": "16c45f66-176e-4a9c-ba71-b2dbd4da6a7c",
   "metadata": {},
   "source": [
    "Podemos perceber que a quantidade de banheiros tende a seguir próximo de a quantidade de quartos, porém variando próximo a 1 ou 2 Banheiros para mais ou menos, reforçando a ideia que alguns desses quartos deve possuir suítes"
   ]
  },
  {
   "cell_type": "code",
   "execution_count": 23,
   "id": "b1a008b1-ba4d-4080-b96b-cbdf705ab81b",
   "metadata": {},
   "outputs": [
    {
     "data": {
      "text/plain": [
       "<AxesSubplot:>"
      ]
     },
     "execution_count": 23,
     "metadata": {},
     "output_type": "execute_result"
    },
    {
     "data": {
      "image/png": "[encoded data removed]",
      "text/plain": [
       "<Figure size 432x288 with 1 Axes>"
      ]
     },
     "metadata": {
      "needs_background": "light"
     },
     "output_type": "display_data"
    }
   ],
   "source": [
    "dados.Vagas.hist(grid=False, ec=\"black\")"
   ]
  },
  {
   "cell_type": "markdown",
   "id": "97987cd3-ac4e-4489-9b3c-c73b2627ec9f",
   "metadata": {},
   "source": [
    "Podemos perceber que a quantidade de vagas para os imóveis é baixa comparada com a quantidade de quartos, representando como as cidades tendem a ter menos espaços para veículos"
   ]
  },
  {
   "cell_type": "code",
   "execution_count": 24,
   "id": "065e6263-aab7-4151-9dee-277a9fbf2090",
   "metadata": {},
   "outputs": [
    {
     "data": {
      "text/plain": [
       "<AxesSubplot:>"
      ]
     },
     "execution_count": 24,
     "metadata": {},
     "output_type": "execute_result"
    },
    {
     "data": {
      "image/png": "[encoded data removed]",
      "text/plain": [
       "<Figure size 432x288 with 1 Axes>"
      ]
     },
     "metadata": {
      "needs_background": "light"
     },
     "output_type": "display_data"
    }
   ],
   "source": [
    "dados.Valor_Int.hist(grid=False, ec=\"black\")"
   ]
  },
  {
   "cell_type": "markdown",
   "id": "ab6aa1eb-530e-4d4c-99ab-817e8b668bb6",
   "metadata": {},
   "source": [
    "Primeiro precisamos entender que o 1e7 significa que a escala está em Milhões, então podemos entender que a grande maioria dos imóveis estão na faixa de menos de 1 milhão de reais. Temos que relembrar também, que existem imóveis de aluguel nessa visão."
   ]
  },
  {
   "cell_type": "code",
   "execution_count": 25,
   "id": "3819b27f-57b5-4f97-be42-dbf4e6c6ffe4",
   "metadata": {},
   "outputs": [
    {
     "data": {
      "image/png": "[encoded data removed]",
      "text/plain": [
       "<Figure size 432x288 with 1 Axes>"
      ]
     },
     "metadata": {
      "needs_background": "light"
     },
     "output_type": "display_data"
    }
   ],
   "source": [
    "dados.plot.scatter(x=\"Quartos\", y=\"Valor_Int\").ticklabel_format(style='plain')"
   ]
  },
  {
   "cell_type": "markdown",
   "id": "c05e92ba-2bd8-49f2-8029-8c0275928d5b",
   "metadata": {},
   "source": [
    "Existe uma correlação baixa em que quantidade de quartos significa valores maiores. Ainda mais que a grande concentração de dados está entre 3 e 5 quartos, e existem outliers bem significativos nessa faixa"
   ]
  },
  {
   "cell_type": "code",
   "execution_count": 26,
   "id": "e0a13a9a-a721-4123-a9e1-8d458d89e423",
   "metadata": {},
   "outputs": [
    {
     "data": {
      "image/png": "[encoded data removed]",
      "text/plain": [
       "<Figure size 432x288 with 1 Axes>"
      ]
     },
     "metadata": {
      "needs_background": "light"
     },
     "output_type": "display_data"
    }
   ],
   "source": [
    "dados.plot.scatter(x=\"Banheiros\", y=\"Valor_Int\").ticklabel_format(style='plain')"
   ]
  },
  {
   "cell_type": "markdown",
   "id": "f3b4fe21-1ef3-43d2-a4cd-559ebc192ef4",
   "metadata": {},
   "source": [
    "Existe uma correlação mais forte em relação a quantidade de banheiro com o valor do imóvel, mostrando que essa informação pode se tornar mais relevante"
   ]
  },
  {
   "cell_type": "code",
   "execution_count": 27,
   "id": "76e4616b-a65f-492e-8ec6-fab07f9c9006",
   "metadata": {},
   "outputs": [
    {
     "data": {
      "image/png": "[encoded data removed]",
      "text/plain": [
       "<Figure size 432x288 with 1 Axes>"
      ]
     },
     "metadata": {
      "needs_background": "light"
     },
     "output_type": "display_data"
    }
   ],
   "source": [
    "dados.plot.scatter(x=\"Vagas\", y=\"Valor_Int\").ticklabel_format(style='plain')"
   ]
  },
  {
   "cell_type": "markdown",
   "id": "afcd33fa-afa7-4055-bf8b-c883bde63fc1",
   "metadata": {},
   "source": [
    "Existe uma fraca correlação dentro da quantidade de vagas com os valores."
   ]
  },
  {
   "cell_type": "code",
   "execution_count": 28,
   "id": "a9ce2065-80da-4dc0-b3a5-49aef9085764",
   "metadata": {},
   "outputs": [
    {
     "data": {
      "image/png": "[encoded data removed]",
      "text/plain": [
       "<Figure size 432x288 with 1 Axes>"
      ]
     },
     "metadata": {
      "needs_background": "light"
     },
     "output_type": "display_data"
    }
   ],
   "source": [
    "dados.plot.scatter(x=\"Metragem\", y=\"Valor_Int\").ticklabel_format(style='plain')"
   ]
  },
  {
   "cell_type": "markdown",
   "id": "7354e002-f1e0-48a0-98ad-b13ca0f457e5",
   "metadata": {},
   "source": [
    "Por conta de existir um sitio dentro das informações de imóveis."
   ]
  },
  {
   "cell_type": "markdown",
   "id": "e8653b30-1ee4-4b81-9de5-8a7f4bf35af6",
   "metadata": {},
   "source": [
    "### 4) Pegar outras estatísticas dos dados (como média, mediana, mim, max)."
   ]
  },
  {
   "cell_type": "code",
   "execution_count": 29,
   "id": "369b0b05-c5be-4682-b026-b35d5f635764",
   "metadata": {},
   "outputs": [
    {
     "data": {
      "text/html": [
       "<div>\n",
       "<style scoped>\n",
       "    .dataframe tbody tr th:only-of-type {\n",
       "        vertical-align: middle;\n",
       "    }\n",
       "\n",
       "    .dataframe tbody tr th {\n",
       "        vertical-align: top;\n",
       "    }\n",
       "\n",
       "    .dataframe thead th {\n",
       "        text-align: right;\n",
       "    }\n",
       "</style>\n",
       "<table border=\"1\" class=\"dataframe\">\n",
       "  <thead>\n",
       "    <tr style=\"text-align: right;\">\n",
       "      <th></th>\n",
       "      <th>Metragem</th>\n",
       "      <th>Quartos</th>\n",
       "      <th>Banheiros</th>\n",
       "      <th>Vagas</th>\n",
       "    </tr>\n",
       "  </thead>\n",
       "  <tbody>\n",
       "    <tr>\n",
       "      <th>count</th>\n",
       "      <td>10008.000000</td>\n",
       "      <td>10008.000000</td>\n",
       "      <td>10008.000000</td>\n",
       "      <td>10008.000000</td>\n",
       "    </tr>\n",
       "    <tr>\n",
       "      <th>mean</th>\n",
       "      <td>442.300659</td>\n",
       "      <td>3.483114</td>\n",
       "      <td>3.879097</td>\n",
       "      <td>4.097222</td>\n",
       "    </tr>\n",
       "    <tr>\n",
       "      <th>std</th>\n",
       "      <td>7515.379389</td>\n",
       "      <td>1.064200</td>\n",
       "      <td>1.988467</td>\n",
       "      <td>2.824014</td>\n",
       "    </tr>\n",
       "    <tr>\n",
       "      <th>min</th>\n",
       "      <td>10.000000</td>\n",
       "      <td>1.000000</td>\n",
       "      <td>1.000000</td>\n",
       "      <td>1.000000</td>\n",
       "    </tr>\n",
       "    <tr>\n",
       "      <th>25%</th>\n",
       "      <td>173.000000</td>\n",
       "      <td>3.000000</td>\n",
       "      <td>2.000000</td>\n",
       "      <td>2.000000</td>\n",
       "    </tr>\n",
       "    <tr>\n",
       "      <th>50%</th>\n",
       "      <td>290.000000</td>\n",
       "      <td>3.000000</td>\n",
       "      <td>4.000000</td>\n",
       "      <td>4.000000</td>\n",
       "    </tr>\n",
       "    <tr>\n",
       "      <th>75%</th>\n",
       "      <td>460.250000</td>\n",
       "      <td>4.000000</td>\n",
       "      <td>5.000000</td>\n",
       "      <td>5.000000</td>\n",
       "    </tr>\n",
       "    <tr>\n",
       "      <th>max</th>\n",
       "      <td>750000.000000</td>\n",
       "      <td>16.000000</td>\n",
       "      <td>40.000000</td>\n",
       "      <td>50.000000</td>\n",
       "    </tr>\n",
       "  </tbody>\n",
       "</table>\n",
       "</div>"
      ],
      "text/plain": [
       "            Metragem       Quartos     Banheiros         Vagas\n",
       "count   10008.000000  10008.000000  10008.000000  10008.000000\n",
       "mean      442.300659      3.483114      3.879097      4.097222\n",
       "std      7515.379389      1.064200      1.988467      2.824014\n",
       "min        10.000000      1.000000      1.000000      1.000000\n",
       "25%       173.000000      3.000000      2.000000      2.000000\n",
       "50%       290.000000      3.000000      4.000000      4.000000\n",
       "75%       460.250000      4.000000      5.000000      5.000000\n",
       "max    750000.000000     16.000000     40.000000     50.000000"
      ]
     },
     "execution_count": 29,
     "metadata": {},
     "output_type": "execute_result"
    }
   ],
   "source": [
    "# Cálculo de Contagem, Média, Deviation, Mínimo, Máximo, 25%, 50% e 75%\n",
    "dados[[\"Metragem\", \"Quartos\", \"Banheiros\", \"Vagas\"]].describe()"
   ]
  },
  {
   "cell_type": "code",
   "execution_count": 30,
   "id": "9c5f0254-7442-4b71-a923-c94f32bdf4ea",
   "metadata": {},
   "outputs": [
    {
     "data": {
      "text/plain": [
       "Metragem     290.0\n",
       "Quartos        3.0\n",
       "Banheiros      4.0\n",
       "Vagas          4.0\n",
       "dtype: float64"
      ]
     },
     "execution_count": 30,
     "metadata": {},
     "output_type": "execute_result"
    }
   ],
   "source": [
    "# Cálculo da Mediana\n",
    "dados[[\"Metragem\", \"Quartos\", \"Banheiros\", \"Vagas\"]].median()"
   ]
  },
  {
   "cell_type": "markdown",
   "id": "6825a9c9-deb0-4088-bbc9-1a1d25514615",
   "metadata": {},
   "source": [
    "### 5) Descobrir quais são os bairros que não tem nome de rua."
   ]
  },
  {
   "cell_type": "code",
   "execution_count": 31,
   "id": "5d72217a-8e72-4c0e-8c9b-1408f5dcd74e",
   "metadata": {},
   "outputs": [
    {
     "data": {
      "text/plain": [
       "<AxesSubplot:>"
      ]
     },
     "execution_count": 31,
     "metadata": {},
     "output_type": "execute_result"
    },
    {
     "data": {
      "image/png": "[encoded data removed]",
      "text/plain": [
       "<Figure size 432x288 with 1 Axes>"
      ]
     },
     "metadata": {
      "needs_background": "light"
     },
     "output_type": "display_data"
    }
   ],
   "source": [
    "n_imoveis_bairro_sem_rua = dados[dados[\"Rua\"].isna()][\"Bairro\"].value_counts()\n",
    "n_imoveis_bairro_sem_rua.head(10).plot.bar()"
   ]
  }
 ],
 "metadata": {
  "kernelspec": {
   "display_name": "Python 3",
   "language": "python",
   "name": "python3"
  },
  "language_info": {
   "codemirror_mode": {
    "name": "ipython",
    "version": 3
   },
   "file_extension": ".py",
   "mimetype": "text/x-python",
   "name": "python",
   "nbconvert_exporter": "python",
   "pygments_lexer": "ipython3",
   "version": "3.8.8"
  }
 },
 "nbformat": 4,
 "nbformat_minor": 5
}
